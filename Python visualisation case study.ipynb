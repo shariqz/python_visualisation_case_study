{
 "cells": [
  {
   "cell_type": "code",
   "execution_count": 1,
   "id": "ab3f7274",
   "metadata": {},
   "outputs": [],
   "source": [
    "import numpy as np\n",
    "import pandas as pd\n",
    "import matplotlib.pyplot as plt\n",
    "import seaborn as sns"
   ]
  },
  {
   "cell_type": "code",
   "execution_count": 9,
   "id": "6956d8f5",
   "metadata": {},
   "outputs": [
    {
     "data": {
      "text/html": [
       "<div>\n",
       "<style scoped>\n",
       "    .dataframe tbody tr th:only-of-type {\n",
       "        vertical-align: middle;\n",
       "    }\n",
       "\n",
       "    .dataframe tbody tr th {\n",
       "        vertical-align: top;\n",
       "    }\n",
       "\n",
       "    .dataframe thead th {\n",
       "        text-align: right;\n",
       "    }\n",
       "</style>\n",
       "<table border=\"1\" class=\"dataframe\">\n",
       "  <thead>\n",
       "    <tr style=\"text-align: right;\">\n",
       "      <th></th>\n",
       "      <th>AccountId</th>\n",
       "      <th>AccountName</th>\n",
       "      <th>Region</th>\n",
       "      <th>Division</th>\n",
       "      <th>City</th>\n",
       "      <th>State</th>\n",
       "      <th>Tier</th>\n",
       "      <th>Month</th>\n",
       "      <th>Sales2015</th>\n",
       "      <th>Sales2016</th>\n",
       "      <th>Units2015</th>\n",
       "      <th>Units2016</th>\n",
       "      <th>TargetAchevied2015</th>\n",
       "      <th>TargetAchevied2016</th>\n",
       "    </tr>\n",
       "  </thead>\n",
       "  <tbody>\n",
       "    <tr>\n",
       "      <th>0</th>\n",
       "      <td>1116</td>\n",
       "      <td>Account1</td>\n",
       "      <td>West</td>\n",
       "      <td>DIAMONDBACK</td>\n",
       "      <td>PHOENIX W</td>\n",
       "      <td>AZ</td>\n",
       "      <td>Low</td>\n",
       "      <td>Aug</td>\n",
       "      <td>0.00</td>\n",
       "      <td>13208.52</td>\n",
       "      <td>0.0</td>\n",
       "      <td>4.0</td>\n",
       "      <td>0.70</td>\n",
       "      <td>1.53</td>\n",
       "    </tr>\n",
       "    <tr>\n",
       "      <th>1</th>\n",
       "      <td>1116</td>\n",
       "      <td>Account1</td>\n",
       "      <td>West</td>\n",
       "      <td>DIAMONDBACK</td>\n",
       "      <td>PHOENIX W</td>\n",
       "      <td>AZ</td>\n",
       "      <td>Low</td>\n",
       "      <td>Oct</td>\n",
       "      <td>10500.78</td>\n",
       "      <td>23114.91</td>\n",
       "      <td>3.0</td>\n",
       "      <td>7.0</td>\n",
       "      <td>0.84</td>\n",
       "      <td>1.31</td>\n",
       "    </tr>\n",
       "    <tr>\n",
       "      <th>2</th>\n",
       "      <td>2391</td>\n",
       "      <td>Account2</td>\n",
       "      <td>East</td>\n",
       "      <td>MINUTEMEN</td>\n",
       "      <td>HARTFORD</td>\n",
       "      <td>CT</td>\n",
       "      <td>Med</td>\n",
       "      <td>Jun</td>\n",
       "      <td>0.00</td>\n",
       "      <td>6627.00</td>\n",
       "      <td>0.0</td>\n",
       "      <td>3.0</td>\n",
       "      <td>1.15</td>\n",
       "      <td>1.29</td>\n",
       "    </tr>\n",
       "    <tr>\n",
       "      <th>3</th>\n",
       "      <td>2391</td>\n",
       "      <td>Account2</td>\n",
       "      <td>East</td>\n",
       "      <td>MINUTEMEN</td>\n",
       "      <td>HARTFORD</td>\n",
       "      <td>CT</td>\n",
       "      <td>Med</td>\n",
       "      <td>Mar</td>\n",
       "      <td>19881.00</td>\n",
       "      <td>13254.00</td>\n",
       "      <td>9.0</td>\n",
       "      <td>6.0</td>\n",
       "      <td>1.33</td>\n",
       "      <td>1.17</td>\n",
       "    </tr>\n",
       "    <tr>\n",
       "      <th>4</th>\n",
       "      <td>2397</td>\n",
       "      <td>Account3</td>\n",
       "      <td>East</td>\n",
       "      <td>MINUTEMEN</td>\n",
       "      <td>WORCESTER</td>\n",
       "      <td>MA</td>\n",
       "      <td>Med</td>\n",
       "      <td>Sep</td>\n",
       "      <td>3684.48</td>\n",
       "      <td>0.00</td>\n",
       "      <td>1.0</td>\n",
       "      <td>0.0</td>\n",
       "      <td>1.02</td>\n",
       "      <td>1.53</td>\n",
       "    </tr>\n",
       "    <tr>\n",
       "      <th>5</th>\n",
       "      <td>2400</td>\n",
       "      <td>Account4</td>\n",
       "      <td>East</td>\n",
       "      <td>MINUTEMEN</td>\n",
       "      <td>PORTLAND</td>\n",
       "      <td>ME</td>\n",
       "      <td>High</td>\n",
       "      <td>Jul</td>\n",
       "      <td>0.00</td>\n",
       "      <td>10525.24</td>\n",
       "      <td>0.0</td>\n",
       "      <td>4.0</td>\n",
       "      <td>1.03</td>\n",
       "      <td>1.45</td>\n",
       "    </tr>\n",
       "    <tr>\n",
       "      <th>6</th>\n",
       "      <td>2400</td>\n",
       "      <td>Account4</td>\n",
       "      <td>East</td>\n",
       "      <td>MINUTEMEN</td>\n",
       "      <td>PORTLAND</td>\n",
       "      <td>ME</td>\n",
       "      <td>High</td>\n",
       "      <td>Feb</td>\n",
       "      <td>2631.31</td>\n",
       "      <td>42812.62</td>\n",
       "      <td>1.0</td>\n",
       "      <td>17.0</td>\n",
       "      <td>1.08</td>\n",
       "      <td>0.99</td>\n",
       "    </tr>\n",
       "    <tr>\n",
       "      <th>7</th>\n",
       "      <td>2404</td>\n",
       "      <td>Account5</td>\n",
       "      <td>East</td>\n",
       "      <td>EMPIRE</td>\n",
       "      <td>BRIDGEPORT</td>\n",
       "      <td>CT</td>\n",
       "      <td>Low</td>\n",
       "      <td>Mar</td>\n",
       "      <td>4153.89</td>\n",
       "      <td>3918.77</td>\n",
       "      <td>1.0</td>\n",
       "      <td>1.0</td>\n",
       "      <td>0.79</td>\n",
       "      <td>1.46</td>\n",
       "    </tr>\n",
       "    <tr>\n",
       "      <th>8</th>\n",
       "      <td>2406</td>\n",
       "      <td>Account6</td>\n",
       "      <td>East</td>\n",
       "      <td>BIG APPLE</td>\n",
       "      <td>JERSEY CITY</td>\n",
       "      <td>NJ</td>\n",
       "      <td>Med</td>\n",
       "      <td>Mar</td>\n",
       "      <td>0.00</td>\n",
       "      <td>6951.86</td>\n",
       "      <td>0.0</td>\n",
       "      <td>2.0</td>\n",
       "      <td>1.12</td>\n",
       "      <td>1.02</td>\n",
       "    </tr>\n",
       "    <tr>\n",
       "      <th>9</th>\n",
       "      <td>2408</td>\n",
       "      <td>Account7</td>\n",
       "      <td>East</td>\n",
       "      <td>BIG APPLE</td>\n",
       "      <td>JERSEY CITY</td>\n",
       "      <td>NJ</td>\n",
       "      <td>High</td>\n",
       "      <td>Aug</td>\n",
       "      <td>0.00</td>\n",
       "      <td>10994.54</td>\n",
       "      <td>0.0</td>\n",
       "      <td>4.0</td>\n",
       "      <td>1.11</td>\n",
       "      <td>1.54</td>\n",
       "    </tr>\n",
       "  </tbody>\n",
       "</table>\n",
       "</div>"
      ],
      "text/plain": [
       "   AccountId AccountName Region     Division         City State  Tier Month  \\\n",
       "0       1116    Account1   West  DIAMONDBACK    PHOENIX W    AZ   Low   Aug   \n",
       "1       1116    Account1   West  DIAMONDBACK    PHOENIX W    AZ   Low   Oct   \n",
       "2       2391    Account2   East    MINUTEMEN     HARTFORD    CT   Med   Jun   \n",
       "3       2391    Account2   East    MINUTEMEN     HARTFORD    CT   Med   Mar   \n",
       "4       2397    Account3   East    MINUTEMEN    WORCESTER    MA   Med   Sep   \n",
       "5       2400    Account4   East    MINUTEMEN     PORTLAND    ME  High   Jul   \n",
       "6       2400    Account4   East    MINUTEMEN     PORTLAND    ME  High   Feb   \n",
       "7       2404    Account5   East       EMPIRE   BRIDGEPORT    CT   Low   Mar   \n",
       "8       2406    Account6   East    BIG APPLE  JERSEY CITY    NJ   Med   Mar   \n",
       "9       2408    Account7   East    BIG APPLE  JERSEY CITY    NJ  High   Aug   \n",
       "\n",
       "   Sales2015  Sales2016  Units2015  Units2016  TargetAchevied2015  \\\n",
       "0       0.00   13208.52        0.0        4.0                0.70   \n",
       "1   10500.78   23114.91        3.0        7.0                0.84   \n",
       "2       0.00    6627.00        0.0        3.0                1.15   \n",
       "3   19881.00   13254.00        9.0        6.0                1.33   \n",
       "4    3684.48       0.00        1.0        0.0                1.02   \n",
       "5       0.00   10525.24        0.0        4.0                1.03   \n",
       "6    2631.31   42812.62        1.0       17.0                1.08   \n",
       "7    4153.89    3918.77        1.0        1.0                0.79   \n",
       "8       0.00    6951.86        0.0        2.0                1.12   \n",
       "9       0.00   10994.54        0.0        4.0                1.11   \n",
       "\n",
       "   TargetAchevied2016  \n",
       "0                1.53  \n",
       "1                1.31  \n",
       "2                1.29  \n",
       "3                1.17  \n",
       "4                1.53  \n",
       "5                1.45  \n",
       "6                0.99  \n",
       "7                1.46  \n",
       "8                1.02  \n",
       "9                1.54  "
      ]
     },
     "execution_count": 9,
     "metadata": {},
     "output_type": "execute_result"
    }
   ],
   "source": [
    "sales_data = pd.read_csv('C:/Users/Lenovo/Downloads/Python Foundation Case Study 4 - Python Visualization Case Study/SalesData.csv')\n",
    "sales_data.head(10)"
   ]
  },
  {
   "cell_type": "code",
   "execution_count": 7,
   "id": "50ca8a72",
   "metadata": {},
   "outputs": [
    {
     "data": {
      "text/plain": [
       "0"
      ]
     },
     "execution_count": 7,
     "metadata": {},
     "output_type": "execute_result"
    }
   ],
   "source": [
    "sales_data.duplicated().sum()"
   ]
  },
  {
   "cell_type": "code",
   "execution_count": 14,
   "id": "01e16e06",
   "metadata": {},
   "outputs": [
    {
     "data": {
      "text/plain": [
       "<AxesSubplot:xlabel='Region'>"
      ]
     },
     "execution_count": 14,
     "metadata": {},
     "output_type": "execute_result"
    },
    {
     "data": {
      "image/png": "[encoded data removed]",
      "text/plain": [
       "<Figure size 640x480 with 1 Axes>"
      ]
     },
     "metadata": {},
     "output_type": "display_data"
    }
   ],
   "source": [
    "## Ques 1. Compare Sales by region for 2016 with 2015 using bar chart\n",
    "graph = sales_data.groupby(['Region'])[['Sales2015','Sales2016']].sum()\n",
    "graph.plot(kind='bar')"
   ]
  },
  {
   "cell_type": "code",
   "execution_count": 102,
   "id": "24cfb6df",
   "metadata": {},
   "outputs": [
    {
     "data": {
      "text/plain": [
       "array([<AxesSubplot:ylabel='Sales2016'>], dtype=object)"
      ]
     },
     "execution_count": 102,
     "metadata": {},
     "output_type": "execute_result"
    },
    {
     "data": {
      "image/png": "[encoded data removed]",
      "text/plain": [
       "<Figure size 640x480 with 1 Axes>"
      ]
     },
     "metadata": {},
     "output_type": "display_data"
    }
   ],
   "source": [
    "## Ques_2. What are the contributing factors to the sales for each region in 2016. Visualize it using a Pie Chart.\n",
    "Q2_graph =sales_data.groupby(['Region'])[['Sales2016']].sum()\n",
    "Q2_graph.plot(kind='pie',x='Sales2016',labels='Region',autopct='\"%.2f %%\"',subplots=True)\n",
    "\n"
   ]
  },
  {
   "cell_type": "code",
   "execution_count": 57,
   "id": "12326ff0",
   "metadata": {},
   "outputs": [],
   "source": [
    "## Ques3 3. Compare the total sales of 2015 and 2016 with respect to Region and Tiers\n",
    "Q3 =sales_data.groupby(['Region','Tier'])[['Sales2015','Sales2016']].sum()"
   ]
  },
  {
   "cell_type": "code",
   "execution_count": 59,
   "id": "226952d9",
   "metadata": {},
   "outputs": [
    {
     "data": {
      "text/plain": [
       "<AxesSubplot:xlabel='Region,Tier'>"
      ]
     },
     "execution_count": 59,
     "metadata": {},
     "output_type": "execute_result"
    },
    {
     "data": {
      "image/png": "[encoded data removed]",
      "text/plain": [
       "<Figure size 640x480 with 1 Axes>"
      ]
     },
     "metadata": {},
     "output_type": "display_data"
    }
   ],
   "source": [
    "Q3.plot(kind='bar')"
   ]
  },
  {
   "cell_type": "code",
   "execution_count": 72,
   "id": "3bddc05f",
   "metadata": {},
   "outputs": [
    {
     "name": "stderr",
     "output_type": "stream",
     "text": [
      "C:\\Users\\Lenovo\\AppData\\Local\\Temp\\ipykernel_10156\\458537565.py:2: FutureWarning: Indexing with multiple keys (implicitly converted to a tuple of keys) will be deprecated, use a list instead.\n",
      "  sales_east_region=sales_data.groupby(['Region','State'])['Sales2015','Sales2016'].sum().loc['East'].reset_index()\n"
     ]
    },
    {
     "data": {
      "text/plain": [
       "<AxesSubplot:>"
      ]
     },
     "execution_count": 72,
     "metadata": {},
     "output_type": "execute_result"
    },
    {
     "data": {
      "image/png": "[encoded data removed]",
      "text/plain": [
       "<Figure size 640x480 with 1 Axes>"
      ]
     },
     "metadata": {},
     "output_type": "display_data"
    }
   ],
   "source": [
    "## Ques4. In East region, which state registered a decline in 2016 as compared to 2015?\n",
    "sales_east_region=sales_data.groupby(['Region','State'])['Sales2015','Sales2016'].sum().loc['East'].reset_index()\n",
    "sales_east_region.plot(kind='bar')"
   ]
  },
  {
   "cell_type": "code",
   "execution_count": 77,
   "id": "ffd1379c",
   "metadata": {},
   "outputs": [
    {
     "name": "stderr",
     "output_type": "stream",
     "text": [
      "C:\\Users\\Lenovo\\AppData\\Local\\Temp\\ipykernel_10156\\2466180862.py:2: FutureWarning: Indexing with multiple keys (implicitly converted to a tuple of keys) will be deprecated, use a list instead.\n",
      "  sales_tierwise =sales_data.groupby(['Tier','Division'])['Units2015','Units2016'].sum().loc['High'].reset_index()\n"
     ]
    },
    {
     "data": {
      "text/plain": [
       "<AxesSubplot:>"
      ]
     },
     "execution_count": 77,
     "metadata": {},
     "output_type": "execute_result"
    },
    {
     "data": {
      "image/png": "[encoded data removed]",
      "text/plain": [
       "<Figure size 640x480 with 1 Axes>"
      ]
     },
     "metadata": {},
     "output_type": "display_data"
    }
   ],
   "source": [
    "## Ques 5. In all the High tier, which Division saw a decline in number of units sold in 2016 compared to 2015?\n",
    "sales_tierwise =sales_data.groupby(['Tier','Division'])['Units2015','Units2016'].sum().loc['High'].reset_index()\n",
    "sales_tierwise.plot(kind='bar')"
   ]
  },
  {
   "cell_type": "code",
   "execution_count": 78,
   "id": "432499cf",
   "metadata": {},
   "outputs": [
    {
     "data": {
      "text/html": [
       "<div>\n",
       "<style scoped>\n",
       "    .dataframe tbody tr th:only-of-type {\n",
       "        vertical-align: middle;\n",
       "    }\n",
       "\n",
       "    .dataframe tbody tr th {\n",
       "        vertical-align: top;\n",
       "    }\n",
       "\n",
       "    .dataframe thead th {\n",
       "        text-align: right;\n",
       "    }\n",
       "</style>\n",
       "<table border=\"1\" class=\"dataframe\">\n",
       "  <thead>\n",
       "    <tr style=\"text-align: right;\">\n",
       "      <th></th>\n",
       "      <th>AccountId</th>\n",
       "      <th>AccountName</th>\n",
       "      <th>Region</th>\n",
       "      <th>Division</th>\n",
       "      <th>City</th>\n",
       "      <th>State</th>\n",
       "      <th>Tier</th>\n",
       "      <th>Month</th>\n",
       "      <th>Sales2015</th>\n",
       "      <th>Sales2016</th>\n",
       "      <th>Units2015</th>\n",
       "      <th>Units2016</th>\n",
       "      <th>TargetAchevied2015</th>\n",
       "      <th>TargetAchevied2016</th>\n",
       "    </tr>\n",
       "  </thead>\n",
       "  <tbody>\n",
       "    <tr>\n",
       "      <th>0</th>\n",
       "      <td>1116</td>\n",
       "      <td>Account1</td>\n",
       "      <td>West</td>\n",
       "      <td>DIAMONDBACK</td>\n",
       "      <td>PHOENIX W</td>\n",
       "      <td>AZ</td>\n",
       "      <td>Low</td>\n",
       "      <td>Aug</td>\n",
       "      <td>0.00</td>\n",
       "      <td>13208.52</td>\n",
       "      <td>0.0</td>\n",
       "      <td>4.0</td>\n",
       "      <td>0.70</td>\n",
       "      <td>1.53</td>\n",
       "    </tr>\n",
       "    <tr>\n",
       "      <th>1</th>\n",
       "      <td>1116</td>\n",
       "      <td>Account1</td>\n",
       "      <td>West</td>\n",
       "      <td>DIAMONDBACK</td>\n",
       "      <td>PHOENIX W</td>\n",
       "      <td>AZ</td>\n",
       "      <td>Low</td>\n",
       "      <td>Oct</td>\n",
       "      <td>10500.78</td>\n",
       "      <td>23114.91</td>\n",
       "      <td>3.0</td>\n",
       "      <td>7.0</td>\n",
       "      <td>0.84</td>\n",
       "      <td>1.31</td>\n",
       "    </tr>\n",
       "    <tr>\n",
       "      <th>2</th>\n",
       "      <td>2391</td>\n",
       "      <td>Account2</td>\n",
       "      <td>East</td>\n",
       "      <td>MINUTEMEN</td>\n",
       "      <td>HARTFORD</td>\n",
       "      <td>CT</td>\n",
       "      <td>Med</td>\n",
       "      <td>Jun</td>\n",
       "      <td>0.00</td>\n",
       "      <td>6627.00</td>\n",
       "      <td>0.0</td>\n",
       "      <td>3.0</td>\n",
       "      <td>1.15</td>\n",
       "      <td>1.29</td>\n",
       "    </tr>\n",
       "    <tr>\n",
       "      <th>3</th>\n",
       "      <td>2391</td>\n",
       "      <td>Account2</td>\n",
       "      <td>East</td>\n",
       "      <td>MINUTEMEN</td>\n",
       "      <td>HARTFORD</td>\n",
       "      <td>CT</td>\n",
       "      <td>Med</td>\n",
       "      <td>Mar</td>\n",
       "      <td>19881.00</td>\n",
       "      <td>13254.00</td>\n",
       "      <td>9.0</td>\n",
       "      <td>6.0</td>\n",
       "      <td>1.33</td>\n",
       "      <td>1.17</td>\n",
       "    </tr>\n",
       "    <tr>\n",
       "      <th>4</th>\n",
       "      <td>2397</td>\n",
       "      <td>Account3</td>\n",
       "      <td>East</td>\n",
       "      <td>MINUTEMEN</td>\n",
       "      <td>WORCESTER</td>\n",
       "      <td>MA</td>\n",
       "      <td>Med</td>\n",
       "      <td>Sep</td>\n",
       "      <td>3684.48</td>\n",
       "      <td>0.00</td>\n",
       "      <td>1.0</td>\n",
       "      <td>0.0</td>\n",
       "      <td>1.02</td>\n",
       "      <td>1.53</td>\n",
       "    </tr>\n",
       "    <tr>\n",
       "      <th>...</th>\n",
       "      <td>...</td>\n",
       "      <td>...</td>\n",
       "      <td>...</td>\n",
       "      <td>...</td>\n",
       "      <td>...</td>\n",
       "      <td>...</td>\n",
       "      <td>...</td>\n",
       "      <td>...</td>\n",
       "      <td>...</td>\n",
       "      <td>...</td>\n",
       "      <td>...</td>\n",
       "      <td>...</td>\n",
       "      <td>...</td>\n",
       "      <td>...</td>\n",
       "    </tr>\n",
       "    <tr>\n",
       "      <th>3704</th>\n",
       "      <td>7576</td>\n",
       "      <td>Account2736</td>\n",
       "      <td>East</td>\n",
       "      <td>EMPIRE</td>\n",
       "      <td>SYRACUSE</td>\n",
       "      <td>NY</td>\n",
       "      <td>Out</td>\n",
       "      <td>Feb</td>\n",
       "      <td>3684.48</td>\n",
       "      <td>0.00</td>\n",
       "      <td>1.0</td>\n",
       "      <td>0.0</td>\n",
       "      <td>1.06</td>\n",
       "      <td>1.14</td>\n",
       "    </tr>\n",
       "    <tr>\n",
       "      <th>3705</th>\n",
       "      <td>4969</td>\n",
       "      <td>Account2740</td>\n",
       "      <td>Central</td>\n",
       "      <td>SOUTHERN STAR</td>\n",
       "      <td>MONTGOMERY</td>\n",
       "      <td>AL</td>\n",
       "      <td>Med</td>\n",
       "      <td>Aug</td>\n",
       "      <td>3684.48</td>\n",
       "      <td>0.00</td>\n",
       "      <td>1.0</td>\n",
       "      <td>0.0</td>\n",
       "      <td>0.96</td>\n",
       "      <td>1.11</td>\n",
       "    </tr>\n",
       "    <tr>\n",
       "      <th>3706</th>\n",
       "      <td>2850</td>\n",
       "      <td>Account2746</td>\n",
       "      <td>East</td>\n",
       "      <td>SYNERGY</td>\n",
       "      <td>ASHEVILLE</td>\n",
       "      <td>NC</td>\n",
       "      <td>High</td>\n",
       "      <td>Nov</td>\n",
       "      <td>5067.70</td>\n",
       "      <td>0.00</td>\n",
       "      <td>2.0</td>\n",
       "      <td>0.0</td>\n",
       "      <td>1.11</td>\n",
       "      <td>1.55</td>\n",
       "    </tr>\n",
       "    <tr>\n",
       "      <th>3707</th>\n",
       "      <td>1102265</td>\n",
       "      <td>Account2748</td>\n",
       "      <td>West</td>\n",
       "      <td>DIAMONDBACK</td>\n",
       "      <td>SCOTTSDALE</td>\n",
       "      <td>AZ</td>\n",
       "      <td>Out</td>\n",
       "      <td>Jan</td>\n",
       "      <td>3684.48</td>\n",
       "      <td>0.00</td>\n",
       "      <td>1.0</td>\n",
       "      <td>0.0</td>\n",
       "      <td>1.31</td>\n",
       "      <td>1.48</td>\n",
       "    </tr>\n",
       "    <tr>\n",
       "      <th>3708</th>\n",
       "      <td>47282</td>\n",
       "      <td>Account2750</td>\n",
       "      <td>West</td>\n",
       "      <td>CHARGERS</td>\n",
       "      <td>SAN JOSE</td>\n",
       "      <td>CA</td>\n",
       "      <td>Low</td>\n",
       "      <td>Jun</td>\n",
       "      <td>2858.71</td>\n",
       "      <td>0.00</td>\n",
       "      <td>1.0</td>\n",
       "      <td>0.0</td>\n",
       "      <td>1.33</td>\n",
       "      <td>1.01</td>\n",
       "    </tr>\n",
       "  </tbody>\n",
       "</table>\n",
       "<p>3709 rows × 14 columns</p>\n",
       "</div>"
      ],
      "text/plain": [
       "      AccountId  AccountName   Region       Division        City State  Tier  \\\n",
       "0          1116     Account1     West    DIAMONDBACK   PHOENIX W    AZ   Low   \n",
       "1          1116     Account1     West    DIAMONDBACK   PHOENIX W    AZ   Low   \n",
       "2          2391     Account2     East      MINUTEMEN    HARTFORD    CT   Med   \n",
       "3          2391     Account2     East      MINUTEMEN    HARTFORD    CT   Med   \n",
       "4          2397     Account3     East      MINUTEMEN   WORCESTER    MA   Med   \n",
       "...         ...          ...      ...            ...         ...   ...   ...   \n",
       "3704       7576  Account2736     East         EMPIRE    SYRACUSE    NY   Out   \n",
       "3705       4969  Account2740  Central  SOUTHERN STAR  MONTGOMERY    AL   Med   \n",
       "3706       2850  Account2746     East        SYNERGY   ASHEVILLE    NC  High   \n",
       "3707    1102265  Account2748     West    DIAMONDBACK  SCOTTSDALE    AZ   Out   \n",
       "3708      47282  Account2750     West       CHARGERS    SAN JOSE    CA   Low   \n",
       "\n",
       "     Month  Sales2015  Sales2016  Units2015  Units2016  TargetAchevied2015  \\\n",
       "0      Aug       0.00   13208.52        0.0        4.0                0.70   \n",
       "1      Oct   10500.78   23114.91        3.0        7.0                0.84   \n",
       "2      Jun       0.00    6627.00        0.0        3.0                1.15   \n",
       "3      Mar   19881.00   13254.00        9.0        6.0                1.33   \n",
       "4      Sep    3684.48       0.00        1.0        0.0                1.02   \n",
       "...    ...        ...        ...        ...        ...                 ...   \n",
       "3704   Feb    3684.48       0.00        1.0        0.0                1.06   \n",
       "3705   Aug    3684.48       0.00        1.0        0.0                0.96   \n",
       "3706   Nov    5067.70       0.00        2.0        0.0                1.11   \n",
       "3707   Jan    3684.48       0.00        1.0        0.0                1.31   \n",
       "3708   Jun    2858.71       0.00        1.0        0.0                1.33   \n",
       "\n",
       "      TargetAchevied2016  \n",
       "0                   1.53  \n",
       "1                   1.31  \n",
       "2                   1.29  \n",
       "3                   1.17  \n",
       "4                   1.53  \n",
       "...                  ...  \n",
       "3704                1.14  \n",
       "3705                1.11  \n",
       "3706                1.55  \n",
       "3707                1.48  \n",
       "3708                1.01  \n",
       "\n",
       "[3709 rows x 14 columns]"
      ]
     },
     "execution_count": 78,
     "metadata": {},
     "output_type": "execute_result"
    }
   ],
   "source": [
    "sales_data"
   ]
  },
  {
   "cell_type": "code",
   "execution_count": 82,
   "id": "eb656d8d",
   "metadata": {},
   "outputs": [],
   "source": [
    "## Ques 6\n",
    "sales_data['Qtr'] = np.where((sales_data['Month'] == 'Jan')|(sales_data['Month'] == 'Feb')|(sales_data['Month']=='Mar'),'Q1',\n",
    "         np.where((sales_data['Month'] == 'Apr')|(sales_data['Month'] == 'May')|(sales_data['Month']=='Jun'),'Q2',\n",
    "                  np.where((sales_data['Month'] == 'Jul')|(sales_data['Month'] == 'Aug')|(sales_data['Month']=='Sep'),'Q3','Q4')))\n",
    "         \n",
    "   \n",
    "         "
   ]
  },
  {
   "cell_type": "code",
   "execution_count": 86,
   "id": "48f73ab9",
   "metadata": {},
   "outputs": [],
   "source": [
    "## Ques7. Compare Qtr wise sales in 2015 and 2016 in a bar plot\n",
    "Qtrwise_sales =sales_data.groupby(['Qtr'])[['Sales2015','Sales2016']].sum()"
   ]
  },
  {
   "cell_type": "code",
   "execution_count": 87,
   "id": "a14b1dc2",
   "metadata": {},
   "outputs": [
    {
     "data": {
      "text/plain": [
       "<AxesSubplot:xlabel='Qtr'>"
      ]
     },
     "execution_count": 87,
     "metadata": {},
     "output_type": "execute_result"
    },
    {
     "data": {
      "image/png": "[encoded data removed]",
      "text/plain": [
       "<Figure size 640x480 with 1 Axes>"
      ]
     },
     "metadata": {},
     "output_type": "display_data"
    }
   ],
   "source": [
    "Qtrwise_sales.plot(kind='bar')"
   ]
  },
  {
   "cell_type": "code",
   "execution_count": 94,
   "id": "495695ca",
   "metadata": {},
   "outputs": [
    {
     "data": {
      "text/html": [
       "<div>\n",
       "<style scoped>\n",
       "    .dataframe tbody tr th:only-of-type {\n",
       "        vertical-align: middle;\n",
       "    }\n",
       "\n",
       "    .dataframe tbody tr th {\n",
       "        vertical-align: top;\n",
       "    }\n",
       "\n",
       "    .dataframe thead tr th {\n",
       "        text-align: left;\n",
       "    }\n",
       "\n",
       "    .dataframe thead tr:last-of-type th {\n",
       "        text-align: right;\n",
       "    }\n",
       "</style>\n",
       "<table border=\"1\" class=\"dataframe\">\n",
       "  <thead>\n",
       "    <tr>\n",
       "      <th></th>\n",
       "      <th colspan=\"4\" halign=\"left\">Sales2016</th>\n",
       "    </tr>\n",
       "    <tr>\n",
       "      <th>Tier</th>\n",
       "      <th>High</th>\n",
       "      <th>Low</th>\n",
       "      <th>Med</th>\n",
       "      <th>Out</th>\n",
       "    </tr>\n",
       "    <tr>\n",
       "      <th>Qtr</th>\n",
       "      <th></th>\n",
       "      <th></th>\n",
       "      <th></th>\n",
       "      <th></th>\n",
       "    </tr>\n",
       "  </thead>\n",
       "  <tbody>\n",
       "    <tr>\n",
       "      <th>Q1</th>\n",
       "      <td>3867718.595</td>\n",
       "      <td>948832.77</td>\n",
       "      <td>2.181402e+06</td>\n",
       "      <td>0.00</td>\n",
       "    </tr>\n",
       "    <tr>\n",
       "      <th>Q2</th>\n",
       "      <td>4130952.560</td>\n",
       "      <td>890594.75</td>\n",
       "      <td>2.215814e+06</td>\n",
       "      <td>0.00</td>\n",
       "    </tr>\n",
       "    <tr>\n",
       "      <th>Q3</th>\n",
       "      <td>4872559.250</td>\n",
       "      <td>795177.71</td>\n",
       "      <td>2.197058e+06</td>\n",
       "      <td>-3248.53</td>\n",
       "    </tr>\n",
       "    <tr>\n",
       "      <th>Q4</th>\n",
       "      <td>4740001.985</td>\n",
       "      <td>742659.39</td>\n",
       "      <td>2.085207e+06</td>\n",
       "      <td>0.00</td>\n",
       "    </tr>\n",
       "  </tbody>\n",
       "</table>\n",
       "</div>"
      ],
      "text/plain": [
       "        Sales2016                                  \n",
       "Tier         High        Low           Med      Out\n",
       "Qtr                                                \n",
       "Q1    3867718.595  948832.77  2.181402e+06     0.00\n",
       "Q2    4130952.560  890594.75  2.215814e+06     0.00\n",
       "Q3    4872559.250  795177.71  2.197058e+06 -3248.53\n",
       "Q4    4740001.985  742659.39  2.085207e+06     0.00"
      ]
     },
     "execution_count": 94,
     "metadata": {},
     "output_type": "execute_result"
    }
   ],
   "source": [
    "## 8. Determine the composition of Qtr wise sales in and 2016 with regards to all the Tiers in a pie chart\n",
    "Qtr_tier_wise =sales_data.pivot_table(index =['Qtr'],columns =['Tier'],values =['Sales2016'],aggfunc=sum)\n",
    "Qtr_tier_wise"
   ]
  },
  {
   "cell_type": "code",
   "execution_count": null,
   "id": "43f6f559",
   "metadata": {},
   "outputs": [],
   "source": []
  }
 ],
 "metadata": {
  "kernelspec": {
   "display_name": "Python 3 (ipykernel)",
   "language": "python",
   "name": "python3"
  },
  "language_info": {
   "codemirror_mode": {
    "name": "ipython",
    "version": 3
   },
   "file_extension": ".py",
   "mimetype": "text/x-python",
   "name": "python",
   "nbconvert_exporter": "python",
   "pygments_lexer": "ipython3",
   "version": "3.9.13"
  }
 },
 "nbformat": 4,
 "nbformat_minor": 5
}
